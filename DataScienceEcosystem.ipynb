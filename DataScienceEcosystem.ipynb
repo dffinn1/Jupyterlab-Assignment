{
  "metadata": {
    "kernelspec": {
      "name": "python",
      "display_name": "Python (Pyodide)",
      "language": "python"
    },
    "language_info": {
      "codemirror_mode": {
        "name": "python",
        "version": 3
      },
      "file_extension": ".py",
      "mimetype": "text/x-python",
      "name": "python",
      "nbconvert_exporter": "python",
      "pygments_lexer": "ipython3",
      "version": "3.8"
    }
  },
  "nbformat_minor": 5,
  "nbformat": 4,
  "cells": [
    {
      "id": "8701fe99-cd2a-4c55-9fe5-573a4a5c5095",
      "cell_type": "markdown",
      "source": "# Data Science Tools and Ecosystem",
      "metadata": {}
    },
    {
      "id": "7db2c23c-1dcd-4b47-b82f-eecc5c6c3653",
      "cell_type": "markdown",
      "source": "In this notebook, Data Science Tools and Ecosystem are summarized.",
      "metadata": {}
    },
    {
      "id": "a45c482a-d2e7-4e70-8a79-23841f2b6121",
      "cell_type": "markdown",
      "source": "Some of the popular languages that Data Scientists use are:\n1. Python\n2. R\n3. SQL",
      "metadata": {}
    },
    {
      "id": "21385308-3b1c-4112-bcd7-13ddfd83e69a",
      "cell_type": "markdown",
      "source": "Some of the commonly used libraries used by Data Scientists include:\n1. NumPy\n2. Pandas\n3. Scikit-learn",
      "metadata": {}
    },
    {
      "id": "7af1e67d-0b56-41cc-86cb-4f1757fa4cb3",
      "cell_type": "markdown",
      "source": "|Data Science Tools|\n|------------------|\n|Jupyter Notebook|\n|RStudio|\n|VS Code|",
      "metadata": {}
    },
    {
      "id": "2eb1cd99-f70b-40e0-87df-02cde568b88d",
      "cell_type": "markdown",
      "source": "### Below are a few examples of evaluating arithmetic expressions in Python",
      "metadata": {}
    },
    {
      "id": "3bcbd44a-c31e-4e6c-ad12-a4fffb1066a3",
      "cell_type": "code",
      "source": "example1 = 1+5-2\nprint(example1)\nexample2 = 10*7\nprint(example2)",
      "metadata": {
        "trusted": true
      },
      "outputs": [
        {
          "name": "stdout",
          "output_type": "stream",
          "text": "4\n70\n"
        }
      ],
      "execution_count": 8
    },
    {
      "id": "d0cc0978-0147-43bb-a17b-c4a3146cee3e",
      "cell_type": "code",
      "source": "#This a simple arithmetic expression to mutiply then add integers\n(3*4)+5",
      "metadata": {
        "trusted": true
      },
      "outputs": [
        {
          "execution_count": 9,
          "output_type": "execute_result",
          "data": {
            "text/plain": "17"
          },
          "metadata": {}
        }
      ],
      "execution_count": 9
    },
    {
      "id": "9e4c461d-c380-45a5-95da-b4090052449c",
      "cell_type": "code",
      "source": "#This will convert 200 minutes to hours by diving by 60\nminutes = 200\nminutesperhour = 60\nminutes/minutesperhour",
      "metadata": {
        "trusted": true
      },
      "outputs": [
        {
          "execution_count": 10,
          "output_type": "execute_result",
          "data": {
            "text/plain": "3.3333333333333335"
          },
          "metadata": {}
        }
      ],
      "execution_count": 10
    },
    {
      "id": "00e3d87c-8460-4974-bea1-037d20ce93c6",
      "cell_type": "markdown",
      "source": "**Objectives:**\n* Python\n* R\n* SQL",
      "metadata": {}
    },
    {
      "id": "d482a53d-fa6d-4b72-b706-a62c7defc724",
      "cell_type": "markdown",
      "source": "## Author\nDaniel",
      "metadata": {}
    }
  ]
}